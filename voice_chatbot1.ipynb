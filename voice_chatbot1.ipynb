{
 "cells": [
  {
   "cell_type": "code",
   "execution_count": 5,
   "id": "415abc8a",
   "metadata": {},
   "outputs": [
    {
     "name": "stdout",
     "output_type": "stream",
     "text": [
      "Requirement already satisfied: sounddevice in c:\\users\\fatma abdullah\\appdata\\local\\programs\\python\\python312\\lib\\site-packages (0.5.2)\n",
      "Requirement already satisfied: CFFI>=1.0 in c:\\users\\fatma abdullah\\appdata\\local\\programs\\python\\python312\\lib\\site-packages (from sounddevice) (1.17.1)\n",
      "Requirement already satisfied: pycparser in c:\\users\\fatma abdullah\\appdata\\local\\programs\\python\\python312\\lib\\site-packages (from CFFI>=1.0->sounddevice) (2.22)\n"
     ]
    },
    {
     "name": "stderr",
     "output_type": "stream",
     "text": [
      "\n",
      "[notice] A new release of pip is available: 24.0 -> 25.2\n",
      "[notice] To update, run: C:\\Users\\Fatma Abdullah\\AppData\\Local\\Programs\\Python\\Python312\\python.exe -m pip install --upgrade pip\n"
     ]
    }
   ],
   "source": [
    "!pip install sounddevice"
   ]
  },
  {
   "cell_type": "code",
   "execution_count": 7,
   "id": "db68346c",
   "metadata": {},
   "outputs": [
    {
     "ename": "ModuleNotFoundError",
     "evalue": "No module named 'sounddevice'",
     "output_type": "error",
     "traceback": [
      "\u001b[1;31m---------------------------------------------------------------------------\u001b[0m",
      "\u001b[1;31mModuleNotFoundError\u001b[0m                       Traceback (most recent call last)",
      "Cell \u001b[1;32mIn[7], line 2\u001b[0m\n\u001b[0;32m      1\u001b[0m \u001b[38;5;28;01mimport\u001b[39;00m \u001b[38;5;21;01mstreamlit\u001b[39;00m \u001b[38;5;28;01mas\u001b[39;00m \u001b[38;5;21;01mst\u001b[39;00m\n\u001b[1;32m----> 2\u001b[0m \u001b[38;5;28;01mimport\u001b[39;00m \u001b[38;5;21;01msounddevice\u001b[39;00m \u001b[38;5;28;01mas\u001b[39;00m \u001b[38;5;21;01msd\u001b[39;00m\n\u001b[0;32m      3\u001b[0m \u001b[38;5;28;01mimport\u001b[39;00m \u001b[38;5;21;01mnumpy\u001b[39;00m \u001b[38;5;28;01mas\u001b[39;00m \u001b[38;5;21;01mnp\u001b[39;00m\n\u001b[0;32m      4\u001b[0m \u001b[38;5;28;01mimport\u001b[39;00m \u001b[38;5;21;01mwhisper\u001b[39;00m\n",
      "\u001b[1;31mModuleNotFoundError\u001b[0m: No module named 'sounddevice'"
     ]
    }
   ],
   "source": [
    "import streamlit as st\n",
    "import sounddevice as sd\n",
    "import numpy as np\n",
    "import whisper\n",
    "import requests\n",
    "import pyttsx3\n",
    "from reportlab.pdfgen import canvas\n",
    "from io import BytesIO"
   ]
  },
  {
   "cell_type": "code",
   "execution_count": null,
   "id": "f2af10da",
   "metadata": {},
   "outputs": [],
   "source": [
    "# ========= إعدادات =========\n",
    "OPENROUTER_KEY = \"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\"   # حطي المفتاح اللي جايبـاه من OpenRouter\n",
    "OPENROUTER_URL = \"https://openrouter.ai/api/v1/chat/completions\""
   ]
  },
  {
   "cell_type": "code",
   "execution_count": null,
   "id": "47b68edc",
   "metadata": {},
   "outputs": [],
   "source": [
    "# تحميل موديل Whisper\n",
    "@st.cache_resource\n",
    "def load_whisper_model():\n",
    "    return whisper.load_model(\"base\")  # ممكن تغيري لـ \"small\" أو \"medium\" حسب الإمكانيات\n",
    "\n",
    "model = load_whisper_model()"
   ]
  },
  {
   "cell_type": "code",
   "execution_count": 2,
   "id": "d20e01b5",
   "metadata": {},
   "outputs": [],
   "source": [
    "# ========= تسجيل الصوت =========\n",
    "def record_audio(duration=5, fs=16000):\n",
    "    st.info(\"📢 جاري التسجيل...\")\n",
    "    audio = sd.rec(int(duration * fs), samplerate=fs, channels=1, dtype=\"float32\")\n",
    "    sd.wait()\n",
    "    st.success(\"✅ تم التسجيل\")\n",
    "    return np.squeeze(audio)"
   ]
  },
  {
   "cell_type": "code",
   "execution_count": 3,
   "id": "6a746403",
   "metadata": {},
   "outputs": [],
   "source": [
    "# ========= تحويل الصوت لنص =========\n",
    "def transcribe_audio(audio, fs=16000):\n",
    "    # Whisper محتاج ملف\n",
    "    temp_file = \"temp.wav\"\n",
    "    import soundfile as sf\n",
    "    sf.write(temp_file, audio, fs)\n",
    "    result = model.transcribe(temp_file, language=\"ar\")\n",
    "    return result[\"text\"]\n"
   ]
  },
  {
   "cell_type": "code",
   "execution_count": 4,
   "id": "44f0f161",
   "metadata": {},
   "outputs": [],
   "source": [
    "# ========= استدعاء OpenRouter =========\n",
    "def chat_with_openrouter(prompt):\n",
    "    headers = {\n",
    "        \"Authorization\": f\"Bearer {OPENROUTER_KEY}\",\n",
    "        \"Content-Type\": \"application/json\"\n",
    "    }\n",
    "    payload = {\n",
    "        \"model\": \"gpt-4o-mini\",  # ممكن تغيري الموديل\n",
    "        \"messages\": [\n",
    "            {\"role\": \"system\", \"content\": \"أنت مساعد ذكي بالعربية\"},\n",
    "            {\"role\": \"user\", \"content\": prompt}\n",
    "        ]\n",
    "    }\n",
    "    r = requests.post(OPENROUTER_URL, headers=headers, json=payload)\n",
    "    if r.status_code == 200:\n",
    "        data = r.json()\n",
    "        return data[\"choices\"][0][\"message\"][\"content\"]\n",
    "    else:\n",
    "        return f\"خطأ: {r.text}\"\n"
   ]
  },
  {
   "cell_type": "code",
   "execution_count": 5,
   "id": "69be3a3a",
   "metadata": {},
   "outputs": [],
   "source": [
    "# ========= تحويل نص لصوت =========\n",
    "def speak_text(text):\n",
    "    engine = pyttsx3.init()\n",
    "    engine.setProperty(\"rate\", 160)   # سرعة\n",
    "    engine.setProperty(\"voice\", \"arabic\")  # حسب الأصوات المتاحة\n",
    "    engine.say(text)\n",
    "    engine.runAndWait()\n"
   ]
  },
  {
   "cell_type": "code",
   "execution_count": 6,
   "id": "8ff5ee43",
   "metadata": {},
   "outputs": [],
   "source": [
    "# ========= حفظ الرد في ملف PDF =========\n",
    "def save_pdf(text):\n",
    "    buffer = BytesIO()\n",
    "    c = canvas.Canvas(buffer)\n",
    "    c.drawString(100, 800, \"رد الشات بوت:\")\n",
    "    c.drawString(100, 780, text)\n",
    "    c.save()\n",
    "    buffer.seek(0)\n",
    "    return buffer"
   ]
  },
  {
   "cell_type": "code",
   "execution_count": null,
   "id": "7115aa2f",
   "metadata": {},
   "outputs": [],
   "source": [
    "import streamlit as st\n",
    "import speech_recognition as sr\n",
    "\n",
    "st.title(\"🎙️ تحويل الكلام إلى نص\")\n",
    "\n",
    "if st.button(\"ابدأ التسجيل\"):\n",
    "    recognizer = sr.Recognizer()\n",
    "    with sr.Microphone() as source:\n",
    "        st.write(\"🎤 اتكلمي دلوقتي...\")\n",
    "        audio = recognizer.listen(source)\n",
    "        try:\n",
    "            text = recognizer.recognize_google(audio, language=\"ar-AR\")\n",
    "            st.success(f\"النص: {text}\")\n",
    "        except Exception as e:\n",
    "            st.error(f\"حصل خطأ: {e}\")\n"
   ]
  },
  {
   "cell_type": "code",
   "execution_count": 7,
   "id": "c7b07565",
   "metadata": {},
   "outputs": [
    {
     "name": "stderr",
     "output_type": "stream",
     "text": [
      "2025-09-16 20:30:31.914 \n",
      "  \u001b[33m\u001b[1mWarning:\u001b[0m to view this Streamlit app on a browser, run it with the following\n",
      "  command:\n",
      "\n",
      "    streamlit run c:\\Users\\Fatma Abdullah\\anaconda3\\Lib\\site-packages\\ipykernel_launcher.py [ARGUMENTS]\n"
     ]
    }
   ],
   "source": [
    "# ========= واجهة Streamlit =========\n",
    "st.title(\"🤖 شات بوت صوتي بالعربية (بايثون فقط)\")\n",
    "\n",
    "option = st.radio(\"اختيار الإدخال:\", [\"🎤 تسجيل صوت\", \"⌨️ كتابة نص\"])\n",
    "\n",
    "if option == \"🎤 تسجيل صوت\":\n",
    "    duration = st.slider(\"مدة التسجيل بالثواني:\", 3, 15, 5)\n",
    "    if st.button(\"ابدأ التسجيل\"):\n",
    "        audio = record_audio(duration)\n",
    "        text_input = transcribe_audio(audio)\n",
    "        st.text_area(\"النص المستخرج:\", text_input, height=100)\n",
    "        if st.button(\"إرسال إلى الشات بوت\"):\n",
    "            reply = chat_with_openrouter(text_input)\n",
    "            st.text_area(\"رد البوت:\", reply, height=150)\n",
    "            if st.button(\"تشغيل الرد صوتيًا\"):\n",
    "                speak_text(reply)\n",
    "            if st.button(\"تحميل الرد PDF\"):\n",
    "                pdf_buf = save_pdf(reply)\n",
    "                st.download_button(\"تحميل PDF\", pdf_buf, \"reply.pdf\")\n",
    "\n",
    "else:\n",
    "    user_text = st.text_area(\"اكتب رسالتك هنا:\", height=100)\n",
    "    if st.button(\"إرسال إلى الشات بوت\"):\n",
    "        reply = chat_with_openrouter(user_text)\n",
    "        st.text_area(\"رد البوت:\", reply, height=150)\n",
    "        if st.button(\"تشغيل الرد صوتيًا\"):\n",
    "            speak_text(reply)\n",
    "        if st.button(\"تحميل الرد PDF\"):\n",
    "            pdf_buf = save_pdf(reply)\n",
    "            st.download_button(\"تحميل PDF\", pdf_buf, \"reply.pdf\")"
   ]
  },
  {
   "cell_type": "code",
   "execution_count": null,
   "id": "589368ac",
   "metadata": {},
   "outputs": [
    {
     "name": "stderr",
     "output_type": "stream",
     "text": [
      "Usage: streamlit run [OPTIONS] TARGET [ARGS]...\n",
      "Try 'streamlit run --help' for help.\n",
      "\n",
      "Error: Streamlit requires raw Python (.py) files, but the provided file has no extension.\n",
      "For more information, please see https://docs.streamlit.io\n"
     ]
    }
   ],
   "source": [
    "!streamlit run voice_chatbot1.ipynb\n"
   ]
  },
  {
   "cell_type": "code",
   "execution_count": null,
   "id": "aaf184db",
   "metadata": {},
   "outputs": [],
   "source": []
  }
 ],
 "metadata": {
  "kernelspec": {
   "display_name": "base",
   "language": "python",
   "name": "python3"
  },
  "language_info": {
   "codemirror_mode": {
    "name": "ipython",
    "version": 3
   },
   "file_extension": ".py",
   "mimetype": "text/x-python",
   "name": "python",
   "nbconvert_exporter": "python",
   "pygments_lexer": "ipython3",
   "version": "3.12.4"
  }
 },
 "nbformat": 4,
 "nbformat_minor": 5
}
